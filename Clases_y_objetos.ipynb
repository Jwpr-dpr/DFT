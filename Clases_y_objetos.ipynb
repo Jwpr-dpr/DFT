{
  "nbformat": 4,
  "nbformat_minor": 0,
  "metadata": {
    "colab": {
      "provenance": []
    },
    "kernelspec": {
      "name": "python3",
      "display_name": "Python 3"
    },
    "language_info": {
      "name": "python"
    }
  },
  "cells": [
    {
      "cell_type": "markdown",
      "source": [
        "## Las simulaciones computacionales vistas como Objetos\n",
        "Tanto ASE como GPAW son codigos escritos en una mezcla de Python y C. La interfaz hacia el usuario está escrita en Python y solo las rutinas de cálculo mas intensa como por ejemplo las diagonalizaciones están escritas en C y se llaman desde la interfaz de Python.\n",
        "La fortaleza de estos códigos está en su flexibilidad que viene dada por su lenguaje orientado a objetos. El objetivo de las primeras dos secciones es crear una versión minima de ASE y GPAW por ustedes mismos. Si escribir una clase y un objeto en Python es algo que saben hacer bien por favor vaya directamente a la seccion 2. De lo contrario lea primero la sección 1."
      ],
      "metadata": {
        "id": "R5ldWzL3v2hP"
      }
    },
    {
      "cell_type": "markdown",
      "source": [
        "## SECCION 1 - CLASES Y OBJETOS\n",
        "\n",
        "¿Que son las clases y los objetos? Mira el codigo para clear la clase llamada Morral y vamos a definir que tiene la **propiedad** de ser azul. Luego creamos un objeto m que tiene la  que definimos para el Morral. "
      ],
      "metadata": {
        "id": "UygzM1gAxIIF"
      }
    },
    {
      "cell_type": "code",
      "source": [
        "class Morral:\n",
        "  color = \"azul\"\n",
        "\n",
        "maleta = Morral()\n",
        "print(maleta.color)"
      ],
      "metadata": {
        "id": "uwcg5kB2xKdS"
      },
      "execution_count": null,
      "outputs": []
    },
    {
      "cell_type": "markdown",
      "source": [
        "Ahora vamos a generalizar la clase para que podamos crear diferentes morrales con diferentes valores con la **propiedad** color. Para eso vamos a usar la funcion init que nos permite darle las caracteristicas en el momento de crearlo. Aqui vamos a crear un morral con su propia caracteristica. Por defecto si no le damos informacion va a ponerle color azul."
      ],
      "metadata": {
        "id": "w-rR010GUDms"
      }
    },
    {
      "cell_type": "code",
      "source": [
        "class Morral:\n",
        "  def __init__(self, color=\"azul\"):\n",
        "    self.color = color\n",
        "\n",
        "m = Morral(color=\"verde\")\n",
        "print(m.color)"
      ],
      "metadata": {
        "id": "x7HQvRdPUc8P"
      },
      "execution_count": null,
      "outputs": []
    },
    {
      "cell_type": "markdown",
      "source": [
        "Ahora vamos a crear funciones que estén relacionadas con el objeto, por ejemplo que calculen cosas a partir de las propiedades de este. Aqui un ejemplo para un morral que tenga adicionalmente una lista de libros y un metodo que pregunte si la \"agenda\" esta dentro del morral. ¿Util cierto?"
      ],
      "metadata": {
        "id": "yYleoQt3V2US"
      }
    },
    {
      "cell_type": "code",
      "source": [
        "class Morral:\n",
        "  def __init__(self, lista_libros):\n",
        "    self.lista_libros = lista_libros\n",
        "\n",
        "  def esta_agenda_dentro_libros(self):\n",
        "    respuesta = \"agenda\" in self.lista_libros\n",
        "    print(respuesta)\n",
        "\n",
        "m = Morral([\"agenda\",\"termodinamica\"])\n",
        "m.esta_agenda_dentro_libros()\n"
      ],
      "metadata": {
        "id": "cSIdCET0WdAp"
      },
      "execution_count": null,
      "outputs": []
    },
    {
      "cell_type": "markdown",
      "source": [
        "Como los libros son objetos muy importante vamos mejor crear una clase Libros y el metodo de morral vamos a moverlo para que sea un metodo de Libros. El mismo codigo de la celda anterior se ve así cuando se usan dos clases:"
      ],
      "metadata": {
        "id": "_VlbGN98TsXE"
      }
    },
    {
      "cell_type": "code",
      "source": [
        "class Libros:\n",
        "  def __init__(self, lista_libros):\n",
        "    self.lista_libros = lista_libros\n",
        "  \n",
        "  def esta_agenda_dentro_libros(self):\n",
        "    respuesta = \"agenda\" in self.lista_libros\n",
        "    return respuesta\n",
        "\n",
        "\n",
        "class Morral:\n",
        "  def __init__(self, libros=None):\n",
        "    self.libros = libros"
      ],
      "metadata": {
        "id": "Ud5jdG9JYOIT"
      },
      "execution_count": null,
      "outputs": []
    },
    {
      "cell_type": "markdown",
      "source": [
        "Ahora podemos crear los objetos y unirlos de dos maneras siendo ambas equivalentes.\n",
        "\n",
        "Note que el metodo que esta definido para los libros se llama desde el objeto Morral.\n"
      ],
      "metadata": {
        "id": "XUHCq6qq6sqD"
      }
    },
    {
      "cell_type": "code",
      "source": [
        "#Crear los objetos del libro y el morral de forma independiente\n",
        "m = Morral()\n",
        "l = Libros([\"agenda\",\"termodinamica\"])\n",
        "#Luego los unimos: Definimos el objeto l de libros como parte de las propiedades del morral m\n",
        "m.libros = l\n",
        "#Llamamos el metodo del libro desde el morral\n",
        "respuesta = m.libros.esta_agenda_dentro_libros()\n",
        "print(respuesta)"
      ],
      "metadata": {
        "id": "AsQV3PD2YTOZ"
      },
      "execution_count": null,
      "outputs": []
    },
    {
      "cell_type": "code",
      "source": [
        "#O podemos crear el objeto morral y al mismo tiempo el objeto de los libros\n",
        "m = Morral(libros=Libros([\"agenda\",\"termodinamica\"]))\n",
        "#Llamamos el metodo del libro desde el morral\n",
        "respuesta = m.libros.esta_agenda_dentro_libros()\n",
        "print(respuesta)"
      ],
      "metadata": {
        "id": "8ZYiS-liHEqn"
      },
      "execution_count": null,
      "outputs": []
    },
    {
      "cell_type": "markdown",
      "source": [
        "## SECCION 2 Ejercicio\n",
        "Con todo lo que aprendiste ahora puedes crear un codigo que funcione siguiendo las ideas principales del ASE y el GPAW. La idea principal del ASE es crear una clase llamada Atomos que manipule los atomos del sistema vistos en la escala de la mecánica clásica. Otra Clase llamada Calculador va a ocuparse de los calculos electronicos del sistema molecular y va a tener un método llamado dame_emergia_potencial. Cada objeto de Atomos va entonces tener una propiedad calculador que a su vez va a ser un objeto de Calculador. Esta separación de las escalas y la fisica de los átomos (o mas bien núcleos) y los electrones se llama la aproximación Born-Oppenheimer.\n",
        "\n",
        "Tu trabajo es ahora escribir un codigo con una clase Atomos que tenga como atributos todo lo que consideres que se necesita para describir un sistema molecular y los mètodos que permitan manipular los átomos a nivel clásico. Adicionalmente vas a crear una clase llamada Calculador y este tendrá un metodo especial que te va a dar la energia y la fuerza del sistema particular de átomos. Vas a aplicar tu codigo a \"calcular\" la energia potencial de la molecula H2O. Ponemos calcular entre comillas porque te puedes inventar cualquier función que haga la mímica de calcular la energía. Para este ejercicio lo importante es la estructura general del código y ya en las próximas secciones  nos ocuparemos de hacer este cálculo mas preciso.\n",
        "\n",
        "Cuando termines comparte tu codigo con olga.lopeza@udea.edu.co para que discutamos algunas soluciones en clase."
      ],
      "metadata": {
        "id": "gbnN4Sx5y0dw"
      }
    },
    {
      "cell_type": "code",
      "source": [],
      "metadata": {
        "id": "XiacuXUb1JP7"
      },
      "execution_count": null,
      "outputs": []
    }
  ]
}