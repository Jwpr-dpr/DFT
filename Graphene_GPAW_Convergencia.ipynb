{
  "nbformat": 4,
  "nbformat_minor": 0,
  "metadata": {
    "colab": {
      "provenance": []
    },
    "kernelspec": {
      "name": "python3",
      "display_name": "Python 3"
    },
    "language_info": {
      "name": "python"
    }
  },
  "cells": [
    {
      "cell_type": "code",
      "source": [
        "%%capture\n",
        "\n",
        "!apt install python3-mpi4py cython3 libxc-dev gpaw-data\n",
        "!pip -q install gpaw\n",
        "!pip install nglview"
      ],
      "metadata": {
        "id": "7s9x47aKRdDj"
      },
      "execution_count": null,
      "outputs": []
    },
    {
      "cell_type": "code",
      "source": [
        "# Paquetes  para  importar \n",
        "\n",
        "from ase import Atoms\n",
        "from ase.visualize.plot import plot_atoms\n",
        "from gpaw import GPAW,PW,FermiDirac\n",
        "from math import sqrt\n",
        "import matplotlib.pyplot as plt"
      ],
      "metadata": {
        "id": "PhWpSg5EfXn5"
      },
      "execution_count": null,
      "outputs": []
    },
    {
      "cell_type": "markdown",
      "source": [
        "# Convergencia de parámetros\n",
        "\n",
        "Ahora que tenemos claros los parámetros fundamentales para hacer un calculo con GPAW. Veremos como podemos converger estos parámetros para garantizar un resultado optimo. Lo primero que haremos es centrarnos en dos de los parámetros importantes. El energycutoff, que define el tamaño de la base de ondas planas y el numero de puntos en el espacio reciproco. \n",
        "\n",
        "## Tamaño de la base \n",
        "\n",
        "El tamaño de la base se define por medio del método PW. Podemos considerar el cambio en el tamaño de la base de la siguiente forma \n"
      ],
      "metadata": {
        "id": "2HGpaIxyI4PC"
      }
    },
    {
      "cell_type": "code",
      "source": [
        "acc=1.44\n",
        "st = Atoms('C2',[[0.,0.,7.5],[acc,0.,7.5]], cell=[[1.5*acc,sqrt(3)*acc/2.,0.],[1.5*acc,-sqrt(3)*acc/2.,0.],[0.,0.,15.]],pbc=[True,True,False])\n",
        "\n",
        "\n",
        "cutoffs = range(100,800,50)\n",
        "energies = []\n",
        "\n",
        "for cutoff in cutoffs:\n",
        "  calc = GPAW(mode=PW(cutoff),\n",
        "            xc='LDA',\n",
        "            occupations=FermiDirac(width=0.01),\n",
        "            kpts={'size': (2, 2, 1), 'gamma': True},\n",
        "            txt='graphene.log')\n",
        "  st.set_calculator(calc)\n",
        "  energies.append(st.get_potential_energy())\n",
        "plt.xlabel(\"Ecut(eV)\")\n",
        "plt.ylabel(\"Etotal(eV)\")\n",
        "plt.plot(cutoffs,energies)"
      ],
      "metadata": {
        "colab": {
          "base_uri": "https://localhost:8080/",
          "height": 296
        },
        "id": "RAAQ2pFhRaNG",
        "outputId": "66b48d15-fa89-429c-eb72-4fe34bbc982d"
      },
      "execution_count": null,
      "outputs": [
        {
          "output_type": "execute_result",
          "data": {
            "text/plain": [
              "[<matplotlib.lines.Line2D at 0x7f31166c4910>]"
            ]
          },
          "metadata": {},
          "execution_count": 3
        },
        {
          "output_type": "display_data",
          "data": {
            "text/plain": [
              "<Figure size 432x288 with 1 Axes>"
            ],
            "image/png": "[encoded data removed]"
          },
          "metadata": {
            "needs_background": "light"
          }
        }
      ]
    },
    {
      "cell_type": "markdown",
      "source": [
        "El parámetro de convergencia, es la energía total. En este caso podemos ver que esta se hace mínima para un valor de Ecutoff del orden de $450 eV$. Por lo tanto desde este momento podemos fijar este valor para nuestros cálculos. "
      ],
      "metadata": {
        "id": "t65dj_t5S_5m"
      }
    },
    {
      "cell_type": "markdown",
      "source": [
        "# Numero de Puntos Ks\n",
        "\n",
        "En este caso debemos considerar la cantidad de puntos Ks, con los que se barre el espacio reciproco. El parámetro para esto en GPAW es \n",
        "\n",
        "\n",
        "```python\n",
        "kpts={'size': (n-vec1,n-vec2,n-vec3), 'gamma': True}\n",
        "```\n",
        "es decir dentro del código el número de puntos ks los introducimos por medio de un diccionario donde $n-vecx$ es el numero de puntos que se toman a lo largo de cada una de las direcciones del espacio reciproco. Cuando no se tiene periodicidad a lo largo de una dirección el numero de puntos a lo largo de esa dirección se toma como $1$. El numero de puntos en cada dirección depende directamente del tamaño de la celda unitaria. Si la celda es grande en general el numero de puntos necesarios para converger la energía total es más pequeño. \n",
        "\n",
        "A continuación podemos converger los puntos necesarios para el grafeno.\n",
        "\n",
        "\n"
      ],
      "metadata": {
        "id": "wp23ZtlATeqx"
      }
    },
    {
      "cell_type": "code",
      "source": [
        "npts = range(1,15,3)\n",
        "energies = []\n",
        "\n",
        "for n in npts:\n",
        "  calc = GPAW(mode=PW(450),\n",
        "            xc='LDA',\n",
        "            occupations=FermiDirac(width=0.01),\n",
        "            kpts={'size': (n,n, 1), 'gamma': True},\n",
        "            txt='graphene.log')\n",
        "  st.set_calculator(calc)\n",
        "  energies.append(st.get_potential_energy())\n",
        "plt.plot(npts,energies,marker='o')\n",
        "plt.xlabel(\"Número  de puntos\")\n",
        "plt.ylabel(\"Etotal(eV)\")"
      ],
      "metadata": {
        "colab": {
          "base_uri": "https://localhost:8080/",
          "height": 297
        },
        "id": "JG7nySd1SM0u",
        "outputId": "7e9a01cb-93db-41c5-87c7-4d70012bad4c"
      },
      "execution_count": null,
      "outputs": [
        {
          "output_type": "execute_result",
          "data": {
            "text/plain": [
              "Text(0, 0.5, 'Etotal(eV)')"
            ]
          },
          "metadata": {},
          "execution_count": 5
        },
        {
          "output_type": "display_data",
          "data": {
            "text/plain": [
              "<Figure size 432x288 with 1 Axes>"
            ],
            "image/png": "[encoded data removed]"
          },
          "metadata": {
            "needs_background": "light"
          }
        }
      ]
    },
    {
      "cell_type": "markdown",
      "source": [
        "con lo anterior, podemos definir que con $10$ puntos es a lo largo de los dos vectores del plano es más que suficiente para hacer nuestros cálculos. "
      ],
      "metadata": {
        "id": "XqWR0Um7VxwG"
      }
    },
    {
      "cell_type": "markdown",
      "source": [
        "## **Ejercicio:**\n",
        "\n",
        "Repita el  estudio  de convergencia  anterior,  pero  en lugar del  funcional  de intercambio  y correlación LDA, emplear  PBE.\n",
        "\n",
        "---\n",
        "\n",
        "GPAW  tiene  disponible  otros  funcionales  de intercambio  y  correlación.  Puede  consultarlos  en \n",
        "\n",
        "[XC GPAW](https://wiki.fysik.dtu.dk/gpaw/documentation/basic.html#manual-xc)\n",
        "\n",
        "---"
      ],
      "metadata": {
        "id": "TnOzps_ohzsW"
      }
    }
  ]
}