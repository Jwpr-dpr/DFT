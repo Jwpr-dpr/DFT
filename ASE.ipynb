{
  "nbformat": 4,
  "nbformat_minor": 0,
  "metadata": {
    "colab": {
      "provenance": []
    },
    "kernelspec": {
      "name": "python3",
      "display_name": "Python 3"
    },
    "language_info": {
      "name": "python"
    }
  },
  "cells": [
    {
      "cell_type": "markdown",
      "source": [
        "La clase Atomos de ASE nos permite crear un sistema molecular para hacer un estudio de simulación computacional de ellos. \n",
        "\n",
        "Vamos a realizar ahora en clase el tutorial de ASE que se llama \"Introduction: Nitrogen on copper\". [link text](https://wiki.fysik.dtu.dk/ase/gettingstarted/surface.html) \n",
        "\n",
        "En el siguiente modulo van a encontrar una informacion extensa del modulo de Atomos que pueden leer poco a poco para cubrir todos los detalles relacionados con el modulo de ASE. [link ASE ](//wiki.fysik.dtu.dk/ase/ase/atoms.html#module-ase).\n",
        "\n",
        "Por ahora empecemos ejecutando la celda siguiente que les permite importar el codigo ASE y GPAW.Debe tomar unos 30 segundos solamente en ejecutarse.\n"
      ],
      "metadata": {
        "id": "-c4weu6AJxBK"
      }
    },
    {
      "cell_type": "code",
      "execution_count": null,
      "metadata": {
        "id": "roNDPujh341Q"
      },
      "outputs": [],
      "source": [
        "%%capture\n",
        "\n",
        "!apt install python3-mpi4py cython3 libxc-dev gpaw-data\n",
        "!pip -q install gpaw\n",
        "!pip -q install nglview"
      ]
    },
    {
      "cell_type": "markdown",
      "source": [
        "Volvamos al tutorial y empecemos con las lineas que están descritas paso a paso empezando por la sección Atomos."
      ],
      "metadata": {
        "id": "3EVwA_7JUFxg"
      }
    },
    {
      "cell_type": "code",
      "source": [
        "from ase import Atoms\n",
        "\n",
        "d = 1.10\n",
        "\n",
        "molecule = Atoms('2N', positions=[(0., 0., 0.), (0., 0., d)])"
      ],
      "metadata": {
        "id": "ARXsOg3hRwWW"
      },
      "execution_count": null,
      "outputs": []
    },
    {
      "cell_type": "code",
      "source": [
        "from  ase.visualize import  view \n",
        "from google.colab import output\n",
        "output.enable_custom_widget_manager()\n",
        "\n",
        "view(molecule, viewer='ngl')"
      ],
      "metadata": {
        "id": "1ydCQLVTSh2T"
      },
      "execution_count": null,
      "outputs": []
    },
    {
      "cell_type": "markdown",
      "source": [
        "Ahora puede escoger diferentes propiedades del objeto Atoms, modifiquelas y verifique con el visualizador que el objeto cambia de la manera esperada. En la página del módulo que les indiqué mas arriba encuentran listadas todas las propiedades de Atoms asi como metodos que empiezan por \"get_\" que les permiten monitorear que las propiedades que cambiaron realmente quedaron modificadas. Sugerencia: cambie el tipo de atomos, las posiciones y el momento magnetico pero puede intentar con todas las propiedades que le parezcan importantes."
      ],
      "metadata": {
        "id": "DxWPPQ8GUwx3"
      }
    },
    {
      "cell_type": "code",
      "source": [],
      "metadata": {
        "id": "150CFPOQT7gy"
      },
      "execution_count": null,
      "outputs": []
    },
    {
      "cell_type": "markdown",
      "source": [
        "Ejecute ahora el resto del tutorial. Primero agreguemos un calculador simple llamado EMT y obtengamos la energia potencial de una superficie de cobre y de la molecula."
      ],
      "metadata": {
        "id": "oMwx1dz4VMhx"
      }
    },
    {
      "cell_type": "code",
      "source": [
        "#You can also build crystals using, for example, the lattice module which \n",
        "#returns Atoms objects corresponding to common crystal structures. Let us make \n",
        "#a Cu (111) surface:\n",
        "from ase.build import fcc111\n",
        "\n",
        "slab = fcc111('Cu', size=(4,4,2), vacuum=10.0)\n",
        "\n",
        "#In this overview we use the effective medium theory (EMT) calculator, \n",
        "#as it is very fast and hence useful for getting started.\n",
        "#We can attach a calculator to the previously created Atoms objects:\n",
        "from ase.calculators.emt import EMT\n",
        "\n",
        "slab.calc = EMT()\n",
        "\n",
        "molecule.calc = EMT()\n",
        "\n",
        "#and use it to calculate the total energies for the systems by using the \n",
        "#get_potential_energy() method from the Atoms class:\n",
        "e_slab = slab.get_potential_energy()\n",
        "\n",
        "e_N2 = molecule.get_potential_energy()"
      ],
      "metadata": {
        "id": "c44ADOcqVL_I"
      },
      "execution_count": null,
      "outputs": []
    },
    {
      "cell_type": "markdown",
      "source": [
        "Vamos a agregar la molecula encima de la superficie y relajar el conjunto"
      ],
      "metadata": {
        "id": "kzzlicPDWbQw"
      }
    },
    {
      "cell_type": "code",
      "source": [
        "from ase.build import add_adsorbate\n",
        "\n",
        "h = 1.85\n",
        "\n",
        "add_adsorbate(slab, molecule, h, 'ontop')\n",
        "\n",
        "#In order to speed up the relaxation, let us keep the Cu atoms fixed in the slab \n",
        "#by using FixAtoms from the constraints module. Only the N2 molecule is then allowed \n",
        "#to relax to the equilibrium structure:\n",
        "\n",
        "from ase.constraints import FixAtoms\n",
        "\n",
        "constraint = FixAtoms(mask=[a.symbol != 'N' for a in slab])\n",
        "\n",
        "slab.set_constraint(constraint)\n",
        "\n",
        "#Now attach the QuasiNewton minimizer to the system and save the trajectory file. \n",
        "#Run the minimizer with the convergence criteria that the force on all atoms \n",
        "#should be less than some fmax:\n",
        "\n",
        "from ase.optimize import QuasiNewton\n",
        "\n",
        "dyn = QuasiNewton(slab, trajectory='N2Cu.traj')\n",
        "\n",
        "dyn.run(fmax=0.05)\n"
      ],
      "metadata": {
        "id": "_Ik8uA0yWhrA"
      },
      "execution_count": null,
      "outputs": []
    },
    {
      "cell_type": "code",
      "source": [
        "from ase.io import read\n",
        "relaxed = read(\"N2Cu.traj@-1\")\n",
        "view(relaxed, viewer=\"ngl\")"
      ],
      "metadata": {
        "id": "6StcqCfjZSCo"
      },
      "execution_count": null,
      "outputs": []
    }
  ]
}